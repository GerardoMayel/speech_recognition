{
  "nbformat": 4,
  "nbformat_minor": 0,
  "metadata": {
    "colab": {
      "name": "speech_recognition.ipynb",
      "provenance": [],
      "collapsed_sections": [],
      "authorship_tag": "ABX9TyPVaWHdI0IimH1qLcFt26cE",
      "include_colab_link": true
    },
    "kernelspec": {
      "name": "python3",
      "display_name": "Python 3"
    },
    "language_info": {
      "name": "python"
    }
  },
  "cells": [
    {
      "cell_type": "markdown",
      "metadata": {
        "id": "view-in-github",
        "colab_type": "text"
      },
      "source": [
        "<a href=\"https://colab.research.google.com/github/GerardoMayel/speech_recognition/blob/main/speech_recognition.ipynb\" target=\"_parent\"><img src=\"https://colab.research.google.com/assets/colab-badge.svg\" alt=\"Open In Colab\"/></a>"
      ]
    },
    {
      "cell_type": "code",
      "metadata": {
        "colab": {
          "base_uri": "https://localhost:8080/"
        },
        "id": "E3DvknBYQAjj",
        "outputId": "cb13137c-6600-411c-fa95-70e1b9169ee0"
      },
      "source": [
        "pip install SpeechRecognition\n"
      ],
      "execution_count": null,
      "outputs": [
        {
          "output_type": "stream",
          "text": [
            "Collecting SpeechRecognition\n",
            "\u001b[?25l  Downloading https://files.pythonhosted.org/packages/26/e1/7f5678cd94ec1234269d23756dbdaa4c8cfaed973412f88ae8adf7893a50/SpeechRecognition-3.8.1-py2.py3-none-any.whl (32.8MB)\n",
            "\u001b[K     |████████████████████████████████| 32.8MB 138kB/s \n",
            "\u001b[?25hInstalling collected packages: SpeechRecognition\n",
            "Successfully installed SpeechRecognition-3.8.1\n"
          ],
          "name": "stdout"
        }
      ]
    },
    {
      "cell_type": "code",
      "metadata": {
        "colab": {
          "base_uri": "https://localhost:8080/"
        },
        "id": "FqdO82DyRx6t",
        "outputId": "3d460743-cd3c-444c-dcc8-e9341d5e78c1"
      },
      "source": [
        "from google.colab import drive\n",
        "drive.mount('/content/drive')"
      ],
      "execution_count": null,
      "outputs": [
        {
          "output_type": "stream",
          "text": [
            "Mounted at /content/drive\n"
          ],
          "name": "stdout"
        }
      ]
    },
    {
      "cell_type": "code",
      "metadata": {
        "colab": {
          "base_uri": "https://localhost:8080/"
        },
        "id": "IbVPD0GDR51Z",
        "outputId": "cbfdf7f0-8ec1-490e-dafa-f830b6313444"
      },
      "source": [
        "%cd '/content/drive/My Drive/Artificial Intelligence/files'"
      ],
      "execution_count": null,
      "outputs": [
        {
          "output_type": "stream",
          "text": [
            "/content/drive/My Drive/Artificial Intelligence/files\n"
          ],
          "name": "stdout"
        }
      ]
    },
    {
      "cell_type": "code",
      "metadata": {
        "colab": {
          "base_uri": "https://localhost:8080/"
        },
        "id": "Ct9yOLB6SRxa",
        "outputId": "998790f1-014e-45d6-8639-95942fd322e8"
      },
      "source": [
        "!ls"
      ],
      "execution_count": null,
      "outputs": [
        {
          "output_type": "stream",
          "text": [
            "test1.wav\n"
          ],
          "name": "stdout"
        }
      ]
    },
    {
      "cell_type": "code",
      "metadata": {
        "colab": {
          "base_uri": "https://localhost:8080/",
          "height": 35
        },
        "id": "Kc65m1nxQKSI",
        "outputId": "da4a8f53-e056-4638-eb84-a29ede585d7e"
      },
      "source": [
        "import speech_recognition as sr\n",
        "sr.__version__"
      ],
      "execution_count": null,
      "outputs": [
        {
          "output_type": "execute_result",
          "data": {
            "application/vnd.google.colaboratory.intrinsic+json": {
              "type": "string"
            },
            "text/plain": [
              "'3.8.1'"
            ]
          },
          "metadata": {
            "tags": []
          },
          "execution_count": 5
        }
      ]
    },
    {
      "cell_type": "code",
      "metadata": {
        "colab": {
          "base_uri": "https://localhost:8080/"
        },
        "id": "yhqertzDQSwT",
        "outputId": "41a7cbce-e664-4a6c-ef52-05f1fc09c991"
      },
      "source": [
        "!python --version"
      ],
      "execution_count": null,
      "outputs": [
        {
          "output_type": "stream",
          "text": [
            "Python 3.7.10\n"
          ],
          "name": "stdout"
        }
      ]
    },
    {
      "cell_type": "code",
      "metadata": {
        "id": "HpYk8_OXQerf"
      },
      "source": [
        "r = sr.Recognizer()"
      ],
      "execution_count": null,
      "outputs": []
    },
    {
      "cell_type": "code",
      "metadata": {
        "id": "P_YqlIegU7IC"
      },
      "source": [
        "test_audio_1_cc = sr.AudioFile('test1.wav')\n",
        "with test_audio_1_cc as source:\n",
        "    audio = r.record(source)"
      ],
      "execution_count": null,
      "outputs": []
    },
    {
      "cell_type": "code",
      "metadata": {
        "id": "IEY9ki8YVbe8"
      },
      "source": [
        "audio_1_text = r.recognize_google(audio, language='es-CO', show_all=True,)"
      ],
      "execution_count": null,
      "outputs": []
    },
    {
      "cell_type": "code",
      "metadata": {
        "colab": {
          "base_uri": "https://localhost:8080/"
        },
        "id": "63S9BFx2WyzV",
        "outputId": "e6c42e5e-3fce-477b-9f12-329d894518bb"
      },
      "source": [
        "print(audio_1_text)"
      ],
      "execution_count": null,
      "outputs": [
        {
          "output_type": "stream",
          "text": [
            "{'alternative': [{'transcript': 'Alo Buenos días Este es el titular de la línea Yo mismo me puede decir tu nombre por favor y Gabriel Gabriel le llamo de movicelgo para ofrecerle una promoción consiste en la instalación de una línea adicional en su casa donde usted tendrá derecho', 'confidence': 0.87283629}, {'transcript': 'Alo Buenos días Este es el titular de la línea Yo mismo me puede decir tu nombre por favor y Gabriel Gabriel le llamó de movicelgo para ofrecerle una promoción consiste en la instalación de una línea adicional en su casa donde usted tendrá derecho'}, {'transcript': 'Alo Buenos días Este es el titular de la línea me puede decir tu nombre por favor y Gabriel Gabriel le llamo de movicelgo para ofrecerle una promoción consiste en la instalación de una línea adicional en su casa donde usted tendrá derecho'}, {'transcript': 'Alo Buenos días Este es el titular de la línea me puede decir tu nombre por favor y Gabriel Gabriel le llamó de movicelgo para ofrecerle una promoción consiste en la instalación de una línea adicional en su casa donde usted tendrá derecho'}, {'transcript': 'Alo Buenos días Este es el titular de la línea me puede decir su nombre por favor y Gabriel Gabriel le llamo de movicelgo para ofrecerle una promoción consiste en la instalación de una línea adicional en su casa donde usted tendrá derecho'}], 'final': True}\n"
          ],
          "name": "stdout"
        }
      ]
    },
    {
      "cell_type": "code",
      "metadata": {
        "colab": {
          "base_uri": "https://localhost:8080/"
        },
        "id": "HuFAA1xIvVoN",
        "outputId": "2e06d650-3731-4f59-b8d9-a3a6878facc8"
      },
      "source": [
        "text_cc_alt = audio_1_text['alternative']\n",
        "text_cc = text_cc_alt[0]\n",
        "text_cc_final = text_cc['transcript']\n",
        "print(text_cc_final)"
      ],
      "execution_count": null,
      "outputs": [
        {
          "output_type": "stream",
          "text": [
            "Alo Buenos días Este es el titular de la línea Yo mismo me puede decir tu nombre por favor y Gabriel Gabriel le llamo de movicelgo para ofrecerle una promoción consiste en la instalación de una línea adicional en su casa donde usted tendrá derecho\n"
          ],
          "name": "stdout"
        }
      ]
    },
    {
      "cell_type": "code",
      "metadata": {
        "colab": {
          "base_uri": "https://localhost:8080/"
        },
        "id": "MkpDe8WpuezI",
        "outputId": "4a455992-981a-4ee7-8188-f1c4a6f9d11a"
      },
      "source": [
        "print(type(audio_1_text))"
      ],
      "execution_count": null,
      "outputs": [
        {
          "output_type": "stream",
          "text": [
            "<class 'dict'>\n"
          ],
          "name": "stdout"
        }
      ]
    },
    {
      "cell_type": "code",
      "metadata": {
        "colab": {
          "base_uri": "https://localhost:8080/"
        },
        "id": "hsI99KUrZzPD",
        "outputId": "b0b7a172-7cc3-4870-975f-6d81429f8e10"
      },
      "source": [
        "print(len(audio_1_text))"
      ],
      "execution_count": null,
      "outputs": [
        {
          "output_type": "stream",
          "text": [
            "2\n"
          ],
          "name": "stdout"
        }
      ]
    },
    {
      "cell_type": "code",
      "metadata": {
        "colab": {
          "base_uri": "https://localhost:8080/"
        },
        "id": "Eq1JVrpraAaZ",
        "outputId": "e564fb1e-c19f-4d04-920c-7c813f3685b6"
      },
      "source": [
        "my_string = audio_1_text.values\n",
        "print(my_string)"
      ],
      "execution_count": null,
      "outputs": [
        {
          "output_type": "stream",
          "text": [
            "<built-in method values of dict object at 0x7f5385215280>\n"
          ],
          "name": "stdout"
        }
      ]
    },
    {
      "cell_type": "code",
      "metadata": {
        "colab": {
          "base_uri": "https://localhost:8080/"
        },
        "id": "DFHG2t1Cbfux",
        "outputId": "d59995e3-6292-4592-c0b8-39c6569082c6"
      },
      "source": [
        "!pip install deepspeech"
      ],
      "execution_count": null,
      "outputs": [
        {
          "output_type": "stream",
          "text": [
            "Collecting deepspeech\n",
            "\u001b[?25l  Downloading https://files.pythonhosted.org/packages/6f/ca/5ac1f4b31f8b7721be20b692341fa6088c875e40f1cd0c0a27837b058f96/deepspeech-0.9.3-cp37-cp37m-manylinux1_x86_64.whl (9.2MB)\n",
            "\u001b[K     |████████████████████████████████| 9.2MB 446kB/s \n",
            "\u001b[?25hRequirement already satisfied: numpy>=1.14.5 in /usr/local/lib/python3.7/dist-packages (from deepspeech) (1.19.5)\n",
            "Installing collected packages: deepspeech\n",
            "Successfully installed deepspeech-0.9.3\n"
          ],
          "name": "stdout"
        }
      ]
    },
    {
      "cell_type": "code",
      "metadata": {
        "id": "-Sjl5EU8bkYe"
      },
      "source": [
        "audio_1_text_2"
      ],
      "execution_count": null,
      "outputs": []
    }
  ]
}